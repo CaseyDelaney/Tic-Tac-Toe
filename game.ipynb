{
  "nbformat": 4,
  "nbformat_minor": 0,
  "metadata": {
    "colab": {
      "name": "game.ipynb",
      "provenance": [],
      "authorship_tag": "ABX9TyOuELfXdUIXOiQYz5NHNj6J",
      "include_colab_link": true
    },
    "kernelspec": {
      "name": "python3",
      "display_name": "Python 3"
    },
    "language_info": {
      "name": "python"
    }
  },
  "cells": [
    {
      "cell_type": "markdown",
      "metadata": {
        "id": "view-in-github",
        "colab_type": "text"
      },
      "source": [
        "<a href=\"https://colab.research.google.com/github/CaseyDelaney/Tic-Tac-Toe/blob/main/game.ipynb\" target=\"_parent\"><img src=\"https://colab.research.google.com/assets/colab-badge.svg\" alt=\"Open In Colab\"/></a>"
      ]
    },
    {
      "cell_type": "markdown",
      "metadata": {
        "id": "lldD4bK-t2Ti"
      },
      "source": [
        "# Welcome to Tic Tac Toe"
      ]
    },
    {
      "cell_type": "markdown",
      "metadata": {
        "id": "Q2WbKyKl-GAi"
      },
      "source": [
        "### Note: Code does not work in google colab since there is no cloud video monitor. Code is being copied into a jupyter notebook to view the display. Google colab is so we can have live updates between our versions. If you make a chance, update the colab version to reflect the most recent update."
      ]
    },
    {
      "cell_type": "markdown",
      "metadata": {
        "id": "UusNep9c-eOU"
      },
      "source": [
        ""
      ]
    },
    {
      "cell_type": "markdown",
      "metadata": {
        "id": "1ZspT_jh3og_"
      },
      "source": [
        "## Libraries"
      ]
    },
    {
      "cell_type": "code",
      "metadata": {
        "id": "ylQUWt9BkAek"
      },
      "source": [
        "# Import Libraries\n",
        "import pygame as pg\n",
        "import sys\n",
        "import time\n",
        "from pygame.locals import *\n",
        "import os\n",
        "\n",
        "# Make sure to download the required dependencies\n",
        "# If you encounter errorrs with pygame, try !pip install pygame"
      ],
      "execution_count": 12,
      "outputs": []
    },
    {
      "cell_type": "markdown",
      "metadata": {
        "id": "L6z5djwi3v63"
      },
      "source": [
        "## Variables"
      ]
    },
    {
      "cell_type": "code",
      "metadata": {
        "id": "YZZuhoPXz0f5"
      },
      "source": [
        "# Variables\n",
        "XorO = 'x'\n",
        "winner = None\n",
        "draw = None\n",
        "\n",
        "#Display Size\n",
        "width = 600\n",
        "height = 600\n",
        "depth = 0\n",
        "\n",
        "# Color\n",
        "background = (250,240,230) # linen (an off-white color)\n",
        "board_lines = (30,30,30) # sgigray12 (slightly greyer black color)\n",
        "\n",
        "#3x3 Board\n",
        "board = [[None]*3, [None]*3, [None]*3]"
      ],
      "execution_count": 13,
      "outputs": []
    },
    {
      "cell_type": "markdown",
      "metadata": {
        "id": "drqo2p8j32W8"
      },
      "source": [
        "## Design Game Display"
      ]
    },
    {
      "cell_type": "code",
      "metadata": {
        "id": "y29gwDIB34dU"
      },
      "source": [
        "pg.init() #init all pygame modules\n",
        "fps = 30 # Adjust framerate\n",
        "clock = pg.time.Clock() # Game Clock\n",
        "\n",
        "os.environ[\"SDL_VIDEODRIVER\"] = \"dummy\" # SDL video in google colab \n",
        "screen = pg.display.set_mode((width, height*1.25), depth, fps) #create display\n",
        "pg.display.set_caption(\"Tic Tac Toe\")\n",
        "pg.display.update()\n",
        "screen.fill(background)\n",
        "pg.display.flip()"
      ],
      "execution_count": 26,
      "outputs": []
    },
    {
      "cell_type": "code",
      "metadata": {
        "id": "OD7Vus303-OH"
      },
      "source": [
        ""
      ],
      "execution_count": null,
      "outputs": []
    }
  ]
}